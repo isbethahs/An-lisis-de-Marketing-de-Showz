{
 "cells": [
  {
   "cell_type": "markdown",
   "metadata": {},
   "source": [
    "# Análisis de Marketing de Showz"
   ]
  },
  {
   "cell_type": "markdown",
   "metadata": {},
   "source": [
    "### Introducción al Proyecto\n",
    "\n",
    "En este proyecto trabajaremos con datos de Showz, una empresa dedicada a la venta de entradas para eventos. El objetivo es ayudar a optimizar los gastos de marketing, analizando cómo los usuarios interactúan con la plataforma y cuánto beneficio generan en relación con el costo de adquisición.\n",
    "\n",
    "#### Objetivos principales\n",
    "\n",
    "1. Preparar los datos de visitas, pedidos y gastos de marketing para el análisis.\n",
    "\n",
    "2. Analizar el comportamiento de los usuarios, incluyendo frecuencia de visitas, conversiones y hábitos de compra.\n",
    "\n",
    "3. Calcular métricas claves como:\n",
    "\n",
    "* Conversión de usuarios.\n",
    "\n",
    "* Valor del ciclo de vida del cliente (LTV).\n",
    "\n",
    "* Costo de adquisición de clientes (CAC).\n",
    "\n",
    "* Retorno sobre la inversión en marketing (ROMI).\n",
    "\n",
    "4. Comparar métricas entre diferentes fuentes de tráfico y dispositivos, observando cómo cambian a lo largo del tiempo.\n",
    "\n",
    "5. Generar recomendaciones para el equipo de marketing sobre dónde invertir más recursos y qué canales son más rentables."
   ]
  },
  {
   "cell_type": "markdown",
   "metadata": {},
   "source": [
    "### 1. Preparar los datos:"
   ]
  },
  {
   "cell_type": "code",
   "execution_count": 1,
   "metadata": {},
   "outputs": [
    {
     "name": "stdout",
     "output_type": "stream",
     "text": [
      "Visits:\n",
      "    Device               End Ts  Source Id             Start Ts  \\\n",
      "0    touch  2017-12-20 17:38:00          4  2017-12-20 17:20:00   \n",
      "1  desktop  2018-02-19 17:21:00          2  2018-02-19 16:53:00   \n",
      "2    touch  2017-07-01 01:54:00          5  2017-07-01 01:54:00   \n",
      "3  desktop  2018-05-20 11:23:00          9  2018-05-20 10:59:00   \n",
      "4  desktop  2017-12-27 14:06:00          3  2017-12-27 14:06:00   \n",
      "\n",
      "                    Uid  \n",
      "0  16879256277535980062  \n",
      "1    104060357244891740  \n",
      "2   7459035603376831527  \n",
      "3  16174680259334210214  \n",
      "4   9969694820036681168   \n",
      "\n",
      "Orders:\n",
      "                Buy Ts  Revenue                   Uid\n",
      "0  2017-06-01 00:10:00    17.00  10329302124590727494\n",
      "1  2017-06-01 00:25:00     0.55  11627257723692907447\n",
      "2  2017-06-01 00:27:00     0.37  17903680561304213844\n",
      "3  2017-06-01 00:29:00     0.55  16109239769442553005\n",
      "4  2017-06-01 07:58:00     0.37  14200605875248379450 \n",
      "\n",
      "Costs:\n",
      "   source_id          dt  costs\n",
      "0          1  2017-06-01  75.20\n",
      "1          1  2017-06-02  62.25\n",
      "2          1  2017-06-03  36.53\n",
      "3          1  2017-06-04  55.00\n",
      "4          1  2017-06-05  57.08 \n",
      "\n"
     ]
    }
   ],
   "source": [
    "# Importamos librerías\n",
    "import pandas as pd\n",
    "\n",
    "\n",
    "# Cargar datasets\n",
    "visits = pd.read_csv('/datasets/visits_log_us.csv')\n",
    "orders = pd.read_csv('/datasets/orders_log_us.csv')\n",
    "costs = pd.read_csv('/datasets/costs_us.csv')\n",
    "\n",
    "# Vistazo inicial a las primeras filas\n",
    "print(\"Visits:\")\n",
    "print(visits.head(), \"\\n\")\n",
    "\n",
    "print(\"Orders:\")\n",
    "print(orders.head(), \"\\n\")\n",
    "\n",
    "print(\"Costs:\")\n",
    "print(costs.head(), \"\\n\")\n"
   ]
  },
  {
   "cell_type": "markdown",
   "metadata": {},
   "source": [
    "#### Conversión de columnas:\n"
   ]
  },
  {
   "cell_type": "code",
   "execution_count": 2,
   "metadata": {},
   "outputs": [
    {
     "name": "stdout",
     "output_type": "stream",
     "text": [
      "<class 'pandas.core.frame.DataFrame'>\n",
      "RangeIndex: 359400 entries, 0 to 359399\n",
      "Data columns (total 5 columns):\n",
      " #   Column     Non-Null Count   Dtype         \n",
      "---  ------     --------------   -----         \n",
      " 0   Device     359400 non-null  object        \n",
      " 1   End Ts     359400 non-null  datetime64[ns]\n",
      " 2   Source Id  359400 non-null  int64         \n",
      " 3   Start Ts   359400 non-null  datetime64[ns]\n",
      " 4   Uid        359400 non-null  uint64        \n",
      "dtypes: datetime64[ns](2), int64(1), object(1), uint64(1)\n",
      "memory usage: 13.7+ MB\n",
      "None \n",
      "\n",
      "<class 'pandas.core.frame.DataFrame'>\n",
      "RangeIndex: 50415 entries, 0 to 50414\n",
      "Data columns (total 3 columns):\n",
      " #   Column   Non-Null Count  Dtype         \n",
      "---  ------   --------------  -----         \n",
      " 0   Buy Ts   50415 non-null  datetime64[ns]\n",
      " 1   Revenue  50415 non-null  float64       \n",
      " 2   Uid      50415 non-null  uint64        \n",
      "dtypes: datetime64[ns](1), float64(1), uint64(1)\n",
      "memory usage: 1.2 MB\n",
      "None \n",
      "\n",
      "<class 'pandas.core.frame.DataFrame'>\n",
      "RangeIndex: 2542 entries, 0 to 2541\n",
      "Data columns (total 3 columns):\n",
      " #   Column     Non-Null Count  Dtype         \n",
      "---  ------     --------------  -----         \n",
      " 0   source_id  2542 non-null   int64         \n",
      " 1   dt         2542 non-null   datetime64[ns]\n",
      " 2   costs      2542 non-null   float64       \n",
      "dtypes: datetime64[ns](1), float64(1), int64(1)\n",
      "memory usage: 59.7 KB\n",
      "None \n",
      "\n"
     ]
    }
   ],
   "source": [
    "# Optimización de tipos de datos\n",
    "# Fechas y horas a formato datetime\n",
    "visits['Start Ts'] = pd.to_datetime(visits['Start Ts'])\n",
    "visits['End Ts'] = pd.to_datetime(visits['End Ts'])\n",
    "\n",
    "orders['Buy Ts'] = pd.to_datetime(orders['Buy Ts'])\n",
    "\n",
    "costs['dt'] = pd.to_datetime(costs['dt'])\n",
    "\n",
    "# Confirmar cambios\n",
    "print(visits.info(), \"\\n\")\n",
    "print(orders.info(), \"\\n\")\n",
    "print(costs.info(), \"\\n\")"
   ]
  },
  {
   "cell_type": "markdown",
   "metadata": {},
   "source": [
    "#### Cargar y preparar el DataFrame Visitas: "
   ]
  },
  {
   "cell_type": "code",
   "execution_count": 3,
   "metadata": {},
   "outputs": [
    {
     "name": "stdout",
     "output_type": "stream",
     "text": [
      "    Device               End Ts  Source Id             Start Ts  \\\n",
      "0    touch  2017-12-20 17:38:00          4  2017-12-20 17:20:00   \n",
      "1  desktop  2018-02-19 17:21:00          2  2018-02-19 16:53:00   \n",
      "2    touch  2017-07-01 01:54:00          5  2017-07-01 01:54:00   \n",
      "3  desktop  2018-05-20 11:23:00          9  2018-05-20 10:59:00   \n",
      "4  desktop  2017-12-27 14:06:00          3  2017-12-27 14:06:00   \n",
      "\n",
      "                    Uid  \n",
      "0  16879256277535980062  \n",
      "1    104060357244891740  \n",
      "2   7459035603376831527  \n",
      "3  16174680259334210214  \n",
      "4   9969694820036681168  \n",
      "Device       object\n",
      "End Ts       object\n",
      "Source Id     int64\n",
      "Start Ts     object\n",
      "Uid          uint64\n",
      "dtype: object\n"
     ]
    }
   ],
   "source": [
    "import pandas as pd\n",
    "import numpy as np\n",
    "\n",
    "# Cargar datos\n",
    "visits = pd.read_csv('/datasets/visits_log_us.csv')\n",
    "\n",
    "# Normalizar nombres de columnas (opcional, para evitar problemas por espacios/case)\n",
    "visits.columns = [c.strip() for c in visits.columns]\n",
    "\n",
    "# Mostrar las primeras filas y tipos\n",
    "print(visits.head())\n",
    "print(visits.dtypes)\n",
    "\n",
    "# Convertir timestamps a datetime \n",
    "visits['Start Ts'] = pd.to_datetime(visits['Start Ts'])\n",
    "visits['End Ts'] = pd.to_datetime(visits['End Ts'])"
   ]
  },
  {
   "cell_type": "markdown",
   "metadata": {},
   "source": [
    "#### Añadir columnas útiles"
   ]
  },
  {
   "cell_type": "code",
   "execution_count": 4,
   "metadata": {},
   "outputs": [
    {
     "name": "stdout",
     "output_type": "stream",
     "text": [
      "Duraciones nulas: 0\n",
      "Duraciones negativas: 2\n"
     ]
    }
   ],
   "source": [
    "\n",
    "# Duración de sesión en segundos \n",
    "visits['session_duration_seconds'] = (visits['End Ts'] - visits['Start Ts']).dt.total_seconds()\n",
    "\n",
    "# Fecha de inicio, semana y mes (para agregaciones)\n",
    "visits['start_date'] = visits['Start Ts'].dt.date\n",
    "visits['start_day'] = visits['Start Ts'].dt.floor('D')            # Timestamp truncado al día\n",
    "visits['start_week'] = visits['Start Ts'].dt.to_period('W').apply(lambda r: r.start_time)  # inicio de la semana\n",
    "visits['start_month'] = visits['Start Ts'].dt.to_period('M').apply(lambda r: r.start_time)  # inicio de mes\n",
    "\n",
    "# Revisar cuántos duration faltan o son negativas\n",
    "print(\"Duraciones nulas:\", visits['session_duration_seconds'].isnull().sum())\n",
    "print(\"Duraciones negativas:\", (visits['session_duration_seconds'] < 0).sum())\n",
    "\n"
   ]
  },
  {
   "cell_type": "markdown",
   "metadata": {},
   "source": [
    "#### ¿Cuántas personas usan el servicio cada día / semana / mes? (DAU / WAU / MAU)"
   ]
  },
  {
   "cell_type": "code",
   "execution_count": 5,
   "metadata": {},
   "outputs": [
    {
     "name": "stdout",
     "output_type": "stream",
     "text": [
      "start_date\n",
      "2017-06-01    605\n",
      "2017-06-02    608\n",
      "2017-06-03    445\n",
      "2017-06-04    476\n",
      "2017-06-05    820\n",
      "Name: DAU, dtype: int64\n",
      "start_week\n",
      "2017-05-29    2021\n",
      "2017-06-05    4129\n",
      "2017-06-12    2812\n",
      "2017-06-19    2878\n",
      "2017-06-26    3064\n",
      "Name: WAU, dtype: int64\n",
      "start_month\n",
      "2017-06-01    13259\n",
      "2017-07-01    14183\n",
      "2017-08-01    11631\n",
      "2017-09-01    18975\n",
      "2017-10-01    29692\n",
      "Name: MAU, dtype: int64\n"
     ]
    }
   ],
   "source": [
    "# Asegurarse de trabajar sobre registros válidos de sesiones\n",
    "valid_visits = visits[visits['session_duration_seconds'].notnull()]\n",
    "\n",
    "# DAU: usuarios únicos por día\n",
    "dau = valid_visits.groupby('start_date')['Uid'].nunique().rename('DAU')\n",
    "dau = dau.sort_index()\n",
    "\n",
    "# WAU: usuarios únicos por semana (cada punto representa # usuarios activos en esa semana)\n",
    "wau = valid_visits.groupby('start_week')['Uid'].nunique().rename('WAU')\n",
    "wau = wau.sort_index()\n",
    "\n",
    "# MAU: usuarios únicos por mes\n",
    "mau = valid_visits.groupby('start_month')['Uid'].nunique().rename('MAU')\n",
    "mau = mau.sort_index()\n",
    "\n",
    "print(dau.head())\n",
    "print(wau.head())\n",
    "print(mau.head())"
   ]
  },
  {
   "cell_type": "markdown",
   "metadata": {},
   "source": [
    "#### ¿Cuántas sesiones hay por día? (un usuario puede tener >1 sesión)"
   ]
  },
  {
   "cell_type": "code",
   "execution_count": 6,
   "metadata": {},
   "outputs": [
    {
     "name": "stdout",
     "output_type": "stream",
     "text": [
      "start_date\n",
      "2017-06-01    664\n",
      "2017-06-02    658\n",
      "2017-06-03    477\n",
      "2017-06-04    510\n",
      "2017-06-05    893\n",
      "Name: sessions_count, dtype: int64\n",
      "start_date\n",
      "2017-06-01    1.097521\n",
      "2017-06-02    1.082237\n",
      "2017-06-03    1.071910\n",
      "2017-06-04    1.071429\n",
      "2017-06-05    1.089024\n",
      "Name: avg_sessions_per_user, dtype: float64\n"
     ]
    }
   ],
   "source": [
    "# Sesiones totales por día (conteo de filas)\n",
    "sessions_per_day = valid_visits.groupby('start_date').size().rename('sessions_count')\n",
    "\n",
    "\n",
    "# Promedio de sesiones por usuario por día\n",
    "avg_sessions_per_user_per_day = (sessions_per_day / dau).rename('avg_sessions_per_user')\n",
    "\n",
    "print(sessions_per_day.head())\n",
    "print(avg_sessions_per_user_per_day.head())"
   ]
  },
  {
   "cell_type": "markdown",
   "metadata": {},
   "source": [
    "#### ¿Cuál es la duración de cada sesión?"
   ]
  },
  {
   "cell_type": "code",
   "execution_count": 7,
   "metadata": {},
   "outputs": [
    {
     "name": "stdout",
     "output_type": "stream",
     "text": [
      "count    359398.000000\n",
      "mean        643.042287\n",
      "std         997.105212\n",
      "min           0.000000\n",
      "25%         120.000000\n",
      "50%         300.000000\n",
      "75%         840.000000\n",
      "max       42660.000000\n",
      "Name: session_duration_seconds, dtype: float64\n",
      "Median: 300.0\n",
      "Pct 90: 1620.0\n",
      "Pct 95: 2280.0\n",
      "Porcentaje de sesiones <= 10s: 9.95943216155905\n",
      "Porcentaje de sesiones >= 300s (usuarios muy enganchados): 51.809414632246146\n"
     ]
    },
    {
     "data": {
      "image/png": "[encoded data removed]",
      "text/plain": [
       "<Figure size 800x400 with 1 Axes>"
      ]
     },
     "metadata": {},
     "output_type": "display_data"
    }
   ],
   "source": [
    "dur = valid_visits.loc[valid_visits['session_duration_seconds'] >= 0, 'session_duration_seconds']\n",
    "\n",
    "# Estadísticas clave\n",
    "print(dur.describe())           # count, mean, std, min, 25%, 50% (median), 75%, max\n",
    "print(\"Median:\", dur.median())\n",
    "print(\"Pct 90:\", dur.quantile(0.90))\n",
    "print(\"Pct 95:\", dur.quantile(0.95))\n",
    "\n",
    "# Métricas de \"engagement\"/\"bounce\"\n",
    "print(\"Porcentaje de sesiones <= 10s:\", (dur <= 10).mean() * 100)\n",
    "print(\"Porcentaje de sesiones >= 300s (usuarios muy enganchados):\", (dur >= 300).mean() * 100)\n",
    "\n",
    "# Histograma simple (matplotlib)\n",
    "import matplotlib.pyplot as plt\n",
    "plt.figure(figsize=(8,4))\n",
    "plt.hist(dur, bins=50, range=(0, 2000))    # ajusta range si hay muchos outliers\n",
    "plt.xlabel('Duración de la sesión (s)')\n",
    "plt.ylabel('Número de sesiones')\n",
    "plt.title('Distribución de la duración de sesiones (0-2000s)')\n",
    "plt.show()"
   ]
  },
  {
   "cell_type": "markdown",
   "metadata": {},
   "source": [
    "#### ¿Con qué frecuencia los usuarios regresan? (retención / tasa de retorno)\n",
    "##### a) Métrica rápida: porcentaje de usuarios que tuvieron más de una sesión en el periodo"
   ]
  },
  {
   "cell_type": "code",
   "execution_count": 8,
   "metadata": {},
   "outputs": [
    {
     "name": "stdout",
     "output_type": "stream",
     "text": [
      "Total users: 228169\n",
      "Users with >1 session: 52128\n",
      "Return rate (fraction of users with >1 session): 0.2284622363248294\n",
      "Return rate (percent): 22.84622363248294\n"
     ]
    }
   ],
   "source": [
    "# Conteo de sesiones por usuario\n",
    "sessions_per_user = valid_visits.groupby('Uid').size()\n",
    "\n",
    "total_users = sessions_per_user.shape[0]\n",
    "users_with_multiple_sessions = (sessions_per_user > 1).sum()\n",
    "return_rate = users_with_multiple_sessions / total_users\n",
    "\n",
    "print(\"Total users:\", total_users)\n",
    "print(\"Users with >1 session:\", users_with_multiple_sessions)\n",
    "print(\"Return rate (fraction of users with >1 session):\", return_rate)\n",
    "print(\"Return rate (percent):\", return_rate * 100)"
   ]
  },
  {
   "cell_type": "markdown",
   "metadata": {},
   "source": [
    "##### b) Retención por cohorte mensual (cohort analysis)"
   ]
  },
  {
   "cell_type": "code",
   "execution_count": 9,
   "metadata": {},
   "outputs": [
    {
     "name": "stdout",
     "output_type": "stream",
     "text": [
      "Tamaño de cohortes (primer mes):\n",
      "cohort_month\n",
      "2017-06-01    13259.0\n",
      "2017-07-01    13140.0\n",
      "2017-08-01    10181.0\n",
      "2017-09-01    16704.0\n",
      "2017-10-01    25977.0\n",
      "Name: 0, dtype: float64\n",
      "\n",
      "Matriz de retención (por periodos en meses):\n",
      "period_number   0      1      2      3      4      5      6      7      8   \\\n",
      "cohort_month                                                                 \n",
      "2017-06-01     1.0  0.079  0.054  0.061  0.069  0.071  0.061  0.058  0.052   \n",
      "2017-07-01     1.0  0.056  0.051  0.056  0.058  0.048  0.045  0.046  0.039   \n",
      "2017-08-01     1.0  0.077  0.063  0.063  0.050  0.044  0.036  0.039  0.028   \n",
      "2017-09-01     1.0  0.085  0.069  0.051  0.039  0.038  0.036  0.024  0.023   \n",
      "2017-10-01     1.0  0.079  0.052  0.039  0.034  0.032  0.021  0.020    NaN   \n",
      "\n",
      "period_number     9      10     11  \n",
      "cohort_month                        \n",
      "2017-06-01     0.051  0.041  0.045  \n",
      "2017-07-01     0.029  0.027    NaN  \n",
      "2017-08-01     0.026    NaN    NaN  \n",
      "2017-09-01       NaN    NaN    NaN  \n",
      "2017-10-01       NaN    NaN    NaN  \n"
     ]
    }
   ],
   "source": [
    "# 1) fecha del primer evento por usuario (primer contacto) \n",
    "first_visit = valid_visits.groupby('Uid')['Start Ts'].min().reset_index().rename(columns={'Start Ts':'first_visit'})\n",
    "\n",
    "# 2) anexar al dataset original\n",
    "visits_enriched = valid_visits.merge(first_visit, on='Uid')\n",
    "\n",
    "# 3) cohort month y visit month (normalizados al inicio del mes)\n",
    "visits_enriched['cohort_month'] = visits_enriched['first_visit'].dt.to_period('M').apply(lambda r: r.start_time)\n",
    "visits_enriched['visit_month'] = visits_enriched['Start Ts'].dt.to_period('M').apply(lambda r: r.start_time)\n",
    "\n",
    "# 4) contar usuarios únicos por cohorte/mes\n",
    "cohort_counts = visits_enriched.groupby(['cohort_month','visit_month'])['Uid'].nunique().reset_index()\n",
    "\n",
    "# 5) calcular offset en meses entre cohorte y mes de visita\n",
    "cohort_counts['period_number'] = ((cohort_counts['visit_month'].dt.year - cohort_counts['cohort_month'].dt.year) * 12 +\n",
    "                                  (cohort_counts['visit_month'].dt.month - cohort_counts['cohort_month'].dt.month))\n",
    "\n",
    "# 6) pivot para obtener la tabla de retención\n",
    "cohort_pivot = cohort_counts.pivot_table(index='cohort_month', columns='period_number', values='Uid')\n",
    "\n",
    "# 7) convertir a tasas dividiendo por tamaño de la cohorte (period 0)\n",
    "cohort_size = cohort_pivot.iloc[:,0]\n",
    "cohort_retention = cohort_pivot.div(cohort_size, axis=0)\n",
    "\n",
    "# Mostrar\n",
    "print(\"Tamaño de cohortes (primer mes):\")\n",
    "print(cohort_size.head())\n",
    "print(\"\\nMatriz de retención (por periodos en meses):\")\n",
    "print(cohort_retention.round(3).head())"
   ]
  },
  {
   "cell_type": "markdown",
   "metadata": {},
   "source": [
    "\n",
    "##### Conclusiones del análisis de Visitas\n",
    "\n",
    "1. **Uso del servicio (DAU, WAU, MAU):**\n",
    "\n",
    "* El número de usuarios diarios activos (DAU) oscila entre 400 y 800, lo que muestra una base de uso constante día a día.\n",
    "\n",
    "* A nivel semanal (WAU), los valores rondan entre 2,000 y 4,000 usuarios.\n",
    "\n",
    "* En mensual (MAU), se alcanzan cifras desde 11,000 hasta 29,000 usuarios únicos.\n",
    "\n",
    "  \n",
    " Esto indica que el servicio tiene una comunidad activa y que existe un buen volumen de usuarios recurrentes a lo largo del mes.\n",
    "\n",
    "2. **Sesiones por día:**\n",
    "\n",
    "* El promedio de sesiones por usuario al día es aproximadamente 1.07–1.1, lo que significa que la mayoría de los usuarios se conectan solo una vez por día, con pocos repitiendo varias veces.\n",
    "* \n",
    " Esto refleja un patrón de uso moderado, sin un nivel de adicción fuerte, pero sí con un hábito de visita diario.\n",
    "\n",
    "3. **Duración de las sesiones:**\n",
    "\n",
    "* La mediana de duración es de 300 segundos (5 minutos), mientras que la media es más alta (~631 segundos), lo que revela la existencia de sesiones largas que elevan el promedio.\n",
    "\n",
    "* El 25% de los usuarios se queda menos de 120s (2 minutos), lo que puede considerarse rebote rápido.\n",
    "\n",
    "* Más del 50% de los usuarios pasan al menos 5 minutos en la plataforma y un ~52% permanece más de 300s (5 minutos), mostrando un nivel de engagement significativo.\n",
    " Hay un balance: una parte abandona rápido, pero la mitad muestra interés real en el contenido.\n",
    "\n",
    "4. **Frecuencia de retorno (retención):**\n",
    "\n",
    "* Solo 22.8% de los usuarios regresan al menos una segunda vez en el periodo analizado.\n",
    " La tasa de retención es relativamente baja: la mayoría prueba el servicio una vez y no vuelve. Aquí hay un área clara de mejora en fidelización y valor ofrecido.\n",
    "\n",
    "5. **Cohorte mensual (retención en el tiempo):**\n",
    "\n",
    "* El análisis de cohortes muestra que, tras el primer mes, menos del 10% de los usuarios permanecen activos.\n",
    "\n",
    "* La caída en la retención es marcada después del segundo mes, llegando en algunos cohortes a valores <5%.\n",
    " Esto indica que aunque la adquisición funciona bien, la retención a largo plazo es débil. El producto logra captar usuarios pero le cuesta mantenerlos enganchados.\n",
    "\n",
    " **Resumen final sobre visitas:**\n",
    "El servicio tiene un volumen saludable de usuarios y buena participación inicial (DAU/WAU/MAU altos y sesiones con duraciones interesantes). Sin embargo, el gran reto está en la retención: muchos usuarios lo prueban, interactúan un poco y luego lo abandonan.\n",
    "Esto sugiere que los esfuerzos de marketing deben enfocarse menos en adquisición masiva y más en mejorar la experiencia de usuario, fidelización y motivos para volver (ejemplo: notificaciones, contenido exclusivo, recompensas por uso frecuente)."
   ]
  },
  {
   "cell_type": "markdown",
   "metadata": {},
   "source": [
    "#### Cargar y preparar el DataFrame Ventas"
   ]
  },
  {
   "cell_type": "code",
   "execution_count": 10,
   "metadata": {},
   "outputs": [],
   "source": [
    "import pandas as pd\n",
    "import numpy as np\n",
    "\n",
    "\n",
    "# Normalizar nombres de columnas por si acaso\n",
    "visits.columns = visits.columns.str.strip()\n",
    "orders.columns = orders.columns.str.strip()\n",
    "\n",
    "# Convertir columnas de fecha a datetime\n",
    "visits['Start Ts'] = pd.to_datetime(visits['Start Ts'], errors='coerce')\n",
    "orders['Buy Ts'] = pd.to_datetime(orders['Buy Ts'], errors='coerce')\n",
    "\n",
    "# Crear columna con fecha (sin hora) para facilitar operaciones de días\n",
    "visits['first_visit_date'] = visits['Start Ts'].dt.normalize()   # midnight (fecha)\n",
    "orders['order_date'] = orders['Buy Ts'].dt.normalize()"
   ]
  },
  {
   "cell_type": "markdown",
   "metadata": {},
   "source": [
    "#### ¿Cuándo empieza la gente a comprar?"
   ]
  },
  {
   "cell_type": "code",
   "execution_count": 11,
   "metadata": {},
   "outputs": [
    {
     "name": "stdout",
     "output_type": "stream",
     "text": [
      "Conversion 0d      25039\n",
      "Conversion 100d       28\n",
      "Conversion 101d       29\n",
      "Conversion 102d       20\n",
      "Conversion 103d       20\n",
      "Conversion 104d       11\n",
      "Conversion 105d       28\n",
      "Conversion 106d       18\n",
      "Conversion 107d       20\n",
      "Conversion 108d       23\n",
      "Conversion 109d       26\n",
      "Conversion 10d       135\n",
      "Conversion 110d       17\n",
      "Conversion 111d       20\n",
      "Conversion 112d       30\n",
      "Conversion 113d       21\n",
      "Conversion 114d       19\n",
      "Conversion 115d       27\n",
      "Conversion 116d       26\n",
      "Conversion 117d       17\n",
      "Name: conversion_category, dtype: int64\n",
      "Conversion 0d      10.973883\n",
      "Conversion 100d     0.012272\n",
      "Conversion 101d     0.012710\n",
      "Conversion 102d     0.008765\n",
      "Conversion 103d     0.008765\n",
      "Conversion 104d     0.004821\n",
      "Conversion 105d     0.012272\n",
      "Conversion 106d     0.007889\n",
      "Conversion 107d     0.008765\n",
      "Conversion 108d     0.010080\n",
      "Conversion 109d     0.011395\n",
      "Conversion 10d      0.059167\n",
      "Conversion 110d     0.007451\n",
      "Conversion 111d     0.008765\n",
      "Conversion 112d     0.013148\n",
      "Conversion 113d     0.009204\n",
      "Conversion 114d     0.008327\n",
      "Conversion 115d     0.011833\n",
      "Conversion 116d     0.011395\n",
      "Conversion 117d     0.007451\n",
      "Name: conversion_category, dtype: float64\n"
     ]
    }
   ],
   "source": [
    "\n",
    "# 1. Fecha de primera visita por usuario (adquisición)\n",
    "first_visit = visits.groupby('Uid')['Start Ts'].min().reset_index().rename(columns={'Start Ts':'first_visit_ts'})\n",
    "first_visit['first_visit_date'] = first_visit['first_visit_ts'].dt.normalize()\n",
    "\n",
    "# 2. Fecha de primera orden por usuario (si existe)\n",
    "first_order = orders.groupby('Uid')['Buy Ts'].min().reset_index().rename(columns={'Buy Ts':'first_order_ts'})\n",
    "first_order['first_order_date'] = first_order['first_order_ts'].dt.normalize()\n",
    "\n",
    "# 3. Combinar para calcular tiempo a primera compra\n",
    "user_journey = first_visit.merge(first_order[['Uid','first_order_date']], on='Uid', how='left')\n",
    "\n",
    "# 4. calcular conversion_days (NaN si no compró aún)\n",
    "user_journey['conversion_days'] = (user_journey['first_order_date'] - user_journey['first_visit_date']).dt.days\n",
    "\n",
    "# 5. Categorizar (Conversion 0d, 1d, 2d, ... , 'no_conversion')\n",
    "user_journey['conversion_category'] = user_journey['conversion_days'].fillna(-1).astype(int)\n",
    "user_journey['conversion_category'] = user_journey['conversion_category'].apply(\n",
    "    lambda x: 'no_conversion' if x < 0 else f'Conversion {x}d'\n",
    ")\n",
    "\n",
    "# 6. Distribución general de conversion_days (incluye no_conversion)\n",
    "conv_counts = user_journey['conversion_category'].value_counts().sort_index()\n",
    "conv_pct = (conv_counts / user_journey.shape[0]) * 100\n",
    "\n",
    "print(conv_counts.head(20))\n",
    "print(conv_pct.head(20))"
   ]
  },
  {
   "cell_type": "markdown",
   "metadata": {},
   "source": [
    "#### Comparar por canal (para ver qué fuente es más efectiva)"
   ]
  },
  {
   "cell_type": "code",
   "execution_count": 12,
   "metadata": {},
   "outputs": [
    {
     "name": "stdout",
     "output_type": "stream",
     "text": [
      "Conversión 0 días:\n",
      "                     users  converted_within     rate_%\n",
      "acquisition_source                                    \n",
      "1                    9469              2168  22.895765\n",
      "10                   6903               973  14.095321\n",
      "2                   17616              2244  12.738420\n",
      "3                   66116              7067  10.688789\n",
      "5                   49237              5100  10.358064\n",
      "4                   72346              7026   9.711663\n",
      "9                    6448               460   7.133995\n",
      "7                      32                 1   3.125000\n",
      "6                       2                 0   0.000000\n",
      "\n",
      "Conversión 7 días:\n",
      "                     users  converted_within     rate_%\n",
      "acquisition_source                                    \n",
      "1                    9469              2504  26.444186\n",
      "10                   6903              1131  16.384181\n",
      "2                   17616              2684  15.236149\n",
      "3                   66116              8348  12.626293\n",
      "5                   49237              5808  11.796007\n",
      "4                   72346              8268  11.428413\n",
      "9                    6448               592   9.181141\n",
      "7                      32                 1   3.125000\n",
      "6                       2                 0   0.000000\n",
      "\n",
      "Conversión 30 días:\n",
      "                     users  converted_within     rate_%\n",
      "acquisition_source                                    \n",
      "1                    9469              2664  28.133911\n",
      "10                   6903              1206  17.470665\n",
      "2                   17616              2923  16.592870\n",
      "3                   66116              8998  13.609414\n",
      "5                   49237              6158  12.506855\n",
      "4                   72346              8932  12.346225\n",
      "9                    6448               707  10.964640\n",
      "7                      32                 1   3.125000\n",
      "6                       2                 0   0.000000\n"
     ]
    }
   ],
   "source": [
    "\n",
    "# 1. Obtener la primera fuente de adquisición por usuario\n",
    "first_source = (\n",
    "    visits.sort_values('Start Ts')\n",
    "    .groupby('Uid')['Source Id']\n",
    "    .first()\n",
    "    .reset_index()\n",
    "    .rename(columns={'Source Id': 'acquisition_source'})\n",
    ")\n",
    "\n",
    "# 2. Añadir al user_journey\n",
    "user_journey = user_journey.merge(first_source, on='Uid', how='left')\n",
    "\n",
    "# 3. Función para calcular tasa de conversión por fuente\n",
    "def conversion_rate_within(days):\n",
    "    # Crear una copia temporal\n",
    "    tmp = user_journey.copy()\n",
    "    # Columna booleana: ¿convirtió dentro de \"days\" días?\n",
    "    tmp['converted_within'] = tmp['conversion_days'].notnull() & (tmp['conversion_days'] <= days)\n",
    "    \n",
    "    # Agrupar por fuente y calcular métricas\n",
    "    res = (\n",
    "        tmp.groupby('acquisition_source')\n",
    "        .agg(\n",
    "            users=('Uid','nunique'),\n",
    "            converted_within=('converted_within','sum')\n",
    "        )\n",
    "    )\n",
    "    \n",
    "    # Calcular tasa %\n",
    "    res['rate_%'] = 100 * res['converted_within'] / res['users']\n",
    "    return res.sort_values('rate_%', ascending=False)\n",
    "\n",
    "# 4. Ejecutar para diferentes horizontes\n",
    "print(\"Conversión 0 días:\\n\", conversion_rate_within(0))\n",
    "print(\"\\nConversión 7 días:\\n\", conversion_rate_within(7))\n",
    "print(\"\\nConversión 30 días:\\n\", conversion_rate_within(30))\n"
   ]
  },
  {
   "cell_type": "markdown",
   "metadata": {},
   "source": [
    "#### ¿Cuántos pedidos hacen durante un período de tiempo dado?"
   ]
  },
  {
   "cell_type": "code",
   "execution_count": 13,
   "metadata": {},
   "outputs": [
    {
     "name": "stdout",
     "output_type": "stream",
     "text": [
      "  order_date  orders_count\n",
      "0 2017-06-01            96\n",
      "1 2017-06-02           111\n",
      "2 2017-06-03            67\n",
      "3 2017-06-04            66\n",
      "4 2017-06-05           161\n",
      "  order_week  orders_count\n",
      "0 2017-05-29           340\n",
      "1 2017-06-05           938\n",
      "2 2017-06-12           343\n",
      "3 2017-06-19           371\n",
      "4 2017-06-26           460\n",
      "  order_month  orders_count\n",
      "0  2017-06-01          2354\n",
      "1  2017-07-01          2363\n",
      "2  2017-08-01          1807\n",
      "3  2017-09-01          3387\n",
      "4  2017-10-01          5679\n",
      "  order_month  unique_buyers\n",
      "0  2017-06-01           2023\n",
      "1  2017-07-01           1984\n",
      "2  2017-08-01           1472\n",
      "3  2017-09-01           2750\n",
      "4  2017-10-01           4675\n",
      "count    36523.000000\n",
      "mean         1.380363\n",
      "std          3.454461\n",
      "min          1.000000\n",
      "25%          1.000000\n",
      "50%          1.000000\n",
      "75%          1.000000\n",
      "max        239.000000\n",
      "Name: orders_per_user, dtype: float64\n"
     ]
    }
   ],
   "source": [
    "# Asegúrate de que order_date existe\n",
    "orders['order_date'] = orders['Buy Ts'].dt.normalize()\n",
    "\n",
    "# Pedidos por día\n",
    "orders_per_day = orders.groupby('order_date').size().rename('orders_count').reset_index()\n",
    "\n",
    "# Pedidos por semana (iniciando lunes)\n",
    "orders['order_week'] = orders['Buy Ts'].dt.to_period('W').apply(lambda r: r.start_time)\n",
    "orders_per_week = orders.groupby('order_week').size().rename('orders_count').reset_index()\n",
    "\n",
    "# Pedidos por mes\n",
    "orders['order_month'] = orders['Buy Ts'].dt.to_period('M').apply(lambda r: r.start_time)\n",
    "orders_per_month = orders.groupby('order_month').size().rename('orders_count').reset_index()\n",
    "\n",
    "# Compradores únicos por periodo (ejemplo mes)\n",
    "buyers_per_month = orders.groupby('order_month')['Uid'].nunique().rename('unique_buyers').reset_index()\n",
    "\n",
    "# Pedidos por usuario (distribución)\n",
    "orders_per_user = orders.groupby('Uid').size().rename('orders_per_user')\n",
    "orders_per_user.describe()\n",
    "\n",
    "print(orders_per_day.head())\n",
    "print(orders_per_week.head())\n",
    "print(orders_per_month.head())\n",
    "print(buyers_per_month.head())\n",
    "print(orders_per_user.describe())"
   ]
  },
  {
   "cell_type": "markdown",
   "metadata": {},
   "source": [
    "#### ¿Cuál es el tamaño promedio de compra?"
   ]
  },
  {
   "cell_type": "code",
   "execution_count": 14,
   "metadata": {},
   "outputs": [
    {
     "name": "stdout",
     "output_type": "stream",
     "text": [
      "AOV mean: 4.999646930477041\n",
      "AOV median: 2.5\n",
      "AOV std: 21.818358802281068\n",
      "AOV quantiles:\n",
      " 0.25     1.22\n",
      "0.50     2.50\n",
      "0.75     4.89\n",
      "0.90     9.17\n",
      "0.95    13.75\n",
      "Name: Revenue, dtype: float64\n",
      "                    count      mean  median\n",
      "acquisition_source                         \n",
      "2                    6392  7.340990    2.92\n",
      "1                    5223  5.952623    3.05\n",
      "5                    9406  5.594729    2.78\n",
      "4                   12895  4.396807    2.67\n",
      "3                   13289  4.101982    2.44\n"
     ]
    }
   ],
   "source": [
    "# AOV global\n",
    "aov_mean = orders['Revenue'].mean()\n",
    "aov_median = orders['Revenue'].median()\n",
    "aov_std = orders['Revenue'].std()\n",
    "aov_qs = orders['Revenue'].quantile([0.25, 0.5, 0.75, 0.9, 0.95])\n",
    "\n",
    "print(\"AOV mean:\", aov_mean)\n",
    "print(\"AOV median:\", aov_median)\n",
    "print(\"AOV std:\", aov_std)\n",
    "print(\"AOV quantiles:\\n\", aov_qs)\n",
    "\n",
    "# AOV por canal (necesitamos saber el source para cada order -> map desde visits)\n",
    "# Mapear acquisition source al usuario (primer source)\n",
    "orders = orders.merge(first_source, on='Uid', how='left')\n",
    "\n",
    "aov_by_source = orders.groupby('acquisition_source')['Revenue'].agg(['count','mean','median']).sort_values('mean', ascending=False)\n",
    "print(aov_by_source.head())"
   ]
  },
  {
   "cell_type": "markdown",
   "metadata": {},
   "source": [
    "#### ¿Cuánto dinero traen? (LTV)"
   ]
  },
  {
   "cell_type": "code",
   "execution_count": 15,
   "metadata": {
    "scrolled": true
   },
   "outputs": [
    {
     "name": "stdout",
     "output_type": "stream",
     "text": [
      "months_since_acq        0         1         2         3         4         5   \\\n",
      "cohort_month                                                                   \n",
      "2017-06-01        0.720830  0.200964  0.110468  0.292789  0.297201  0.213024   \n",
      "2017-07-01        0.751514  0.080615  0.084391  0.074807  0.064459  0.060737   \n",
      "2017-08-01        0.612397  0.097959  0.098355  0.092939  0.079564  0.052343   \n",
      "2017-09-01        0.739775  0.221533  0.126355  0.624936  0.077136  0.114347   \n",
      "2017-10-01        0.706868  0.146662  0.051084  0.040730  0.040169  0.039350   \n",
      "\n",
      "months_since_acq        6         7         8         9         10        11  \n",
      "cohort_month                                                                  \n",
      "2017-06-01        0.263214  0.171266  0.174818  0.262587  0.166227  0.145396  \n",
      "2017-07-01        0.044749  0.058623  0.055139  0.044979  0.035553  0.000000  \n",
      "2017-08-01        0.047800  0.122407  0.081587  0.036904  0.000000  0.000000  \n",
      "2017-09-01        0.057881  0.029417  0.025058  0.000000  0.000000  0.000000  \n",
      "2017-10-01        0.022285  0.025249  0.000000  0.000000  0.000000  0.000000  \n"
     ]
    }
   ],
   "source": [
    "# 1) cohort month (mes de primera visita) por usuario (lo calculamos antes en first_visit)\n",
    "first_visit['cohort_month'] = first_visit['first_visit_ts'].dt.to_period('M').apply(lambda r: r.start_time)\n",
    "first_visit_small = first_visit[['Uid','first_visit_ts','cohort_month']]\n",
    "\n",
    "# 2) unir orders con cohort info\n",
    "orders_with_cohort = orders.merge(first_visit_small, on='Uid', how='left')\n",
    "\n",
    "# 3) calcular months_since_acquisition (period number)\n",
    "orders_with_cohort['order_month'] = orders_with_cohort['Buy Ts'].dt.to_period('M').apply(lambda r: r.start_time)\n",
    "orders_with_cohort['months_since_acq'] = ((orders_with_cohort['order_month'].dt.year - orders_with_cohort['cohort_month'].dt.year) * 12 +\n",
    "                                         (orders_with_cohort['order_month'].dt.month - orders_with_cohort['cohort_month'].dt.month))\n",
    "\n",
    "# 4) sumar revenue por cohorte y months_since_acq\n",
    "cohort_revenue = orders_with_cohort.groupby(['cohort_month','months_since_acq'])['Revenue'].sum().reset_index()\n",
    "\n",
    "# 5) obtener tamaño de cohorte (usuarios en period 0)\n",
    "cohort_size = first_visit_small.groupby('cohort_month')['Uid'].nunique().rename('cohort_size').reset_index()\n",
    "\n",
    "# 6) combinar y calcular LTV (media por usuario) por cohorte/mes\n",
    "cohort_revenue = cohort_revenue.merge(cohort_size, on='cohort_month', how='left')\n",
    "cohort_revenue['ltv_per_user'] = cohort_revenue['Revenue'] / cohort_revenue['cohort_size']\n",
    "\n",
    "# 7) pivot para ver LTV en formato tabla (cada columna = mes desde adquisición)\n",
    "ltv_table = cohort_revenue.pivot_table(index='cohort_month', columns='months_since_acq', values='ltv_per_user').fillna(0)\n",
    "\n",
    "print(ltv_table.head())"
   ]
  },
  {
   "cell_type": "markdown",
   "metadata": {},
   "source": [
    "##### Cálculo LTV acumulado por usuario (ejemplo 3 meses):"
   ]
  },
  {
   "cell_type": "code",
   "execution_count": 16,
   "metadata": {},
   "outputs": [
    {
     "name": "stdout",
     "output_type": "stream",
     "text": [
      "months_since_acq        0         1         2         3         4         5   \\\n",
      "cohort_month                                                                   \n",
      "2017-06-01        0.720830  0.921794  1.032262  1.325051  1.622252  1.835276   \n",
      "2017-07-01        0.751514  0.832129  0.916520  0.991326  1.055785  1.116522   \n",
      "2017-08-01        0.612397  0.710356  0.808710  0.901649  0.981213  1.033556   \n",
      "2017-09-01        0.739775  0.961307  1.087662  1.712598  1.789734  1.904081   \n",
      "2017-10-01        0.706868  0.853530  0.904614  0.945345  0.985514  1.024864   \n",
      "\n",
      "months_since_acq        6         7         8         9         10        11  \n",
      "cohort_month                                                                  \n",
      "2017-06-01        2.098489  2.269755  2.444573  2.707160  2.873387  3.018783  \n",
      "2017-07-01        1.161271  1.219893  1.275032  1.320011  1.355564  0.000000  \n",
      "2017-08-01        1.081355  1.203763  1.285350  1.322254  0.000000  0.000000  \n",
      "2017-09-01        1.961962  1.991379  2.016437  0.000000  0.000000  0.000000  \n",
      "2017-10-01        1.047149  1.072398  0.000000  0.000000  0.000000  0.000000  \n"
     ]
    }
   ],
   "source": [
    "# revenue mensual por cohorte (como arriba)\n",
    "cohort_revenue_monthly = cohort_revenue.copy()\n",
    "cohort_revenue_monthly = cohort_revenue_monthly.sort_values(['cohort_month','months_since_acq'])\n",
    "# acumulado\n",
    "cohort_revenue_monthly['revenue_cum'] = cohort_revenue_monthly.groupby('cohort_month')['Revenue'].cumsum()\n",
    "# ltv acumulado por usuario a X meses\n",
    "cohort_ltv_cum = cohort_revenue_monthly.pivot_table(index='cohort_month', columns='months_since_acq', values='revenue_cum')\n",
    "cohort_ltv_cum = cohort_ltv_cum.div(cohort_size.set_index('cohort_month')['cohort_size'], axis=0).fillna(0)\n",
    "print(cohort_ltv_cum.head())"
   ]
  },
  {
   "cell_type": "markdown",
   "metadata": {},
   "source": [
    "\n",
    "##### 🔹 2. Ventas (Comportamiento de conversión y valor de clientes)\n",
    "\n",
    "\n",
    "1. **¿Cuándo empieza la gente a comprar?**\n",
    "\n",
    "- La mayoría de los usuarios realiza su primera compra el mismo día del registro (Conversion 0d).\n",
    "\n",
    "- Sin embargo, también existe un grupo importante que compra dentro de los primeros 7 días.\n",
    "\n",
    "- Después de los 30 días, la probabilidad de conversión baja drásticamente → significa que el marketing debe enfocarse en la activación temprana.\n",
    "\n",
    "2. **Comparación por canal de adquisición**\n",
    "\n",
    "\n",
    "- La fuente 1 es la más efectiva, con las mejores tasas de conversión en todos los plazos (0, 7 y 30 días).\n",
    "\n",
    "- Las fuentes 10 y 2 también convierten bien, con tasas superiores al 16% a 30 días.\n",
    "\n",
    "- Canales masivos como 3, 4 y 5 generan mucho volumen, pero con tasas de conversión más bajas (~12–13%).\n",
    "\n",
    "- La fuente 9 tiene desempeño débil y las fuentes 7 y 6 casi no convierten → inversión poco rentable.\n",
    "\n",
    "\n",
    "3. **Frecuencia de pedidos**\n",
    "\n",
    "- Los pedidos diarios van de 60 a 160, con fluctuaciones regulares.\n",
    "\n",
    "-A nivel mensual, los pedidos muestran una clara tendencia de crecimiento, pasando de ~2.300 en junio a más de 5.600 en octubre.\n",
    "\n",
    "-Los compradores únicos siguen la misma dinámica, duplicándose en el mismo periodo.\n",
    "\n",
    "-La mayoría de usuarios hacen solo un pedido, pero existen clientes muy fieles con compras repetidas.\n",
    "\n",
    "El negocio está en una fase de crecimiento sostenido. Para aprovechar este impulso, conviene diseñar estrategias de fidelización (para aumentar la frecuencia de compra de usuarios esporádicos) y reforzar las campañas en los meses de mayor demanda, maximizando ingresos.\n",
    "\n",
    "4. **Tamaño promedio de compra (AOV)**\n",
    "\n",
    "- El tamaño promedio de compra (AOV) es cercano a $5, pero la mediana es $2.5, lo que indica que la mayoría de compras son pequeñas y el promedio se ve influenciado por pedidos altos poco frecuentes.\n",
    "\n",
    "- La dispersión es elevada (std ≈ 21.8), confirmando que existen compras atípicamente grandes.\n",
    "\n",
    "- Por fuente de adquisición, los clientes de la fuente 2 y 1 gastan más en promedio (~$7.3 y $6), mientras que las fuentes 4 y 3 presentan tickets más bajos ($4.4 y ~$4.1).\n",
    "\n",
    "5. **LTV (Valor del Cliente en el Tiempo)**\n",
    "\n",
    "- En el primer mes, los clientes generan en promedio entre 0.6 y 0.75 unidades monetarias, lo que refleja un ingreso inicial moderado.\n",
    "\n",
    "- A medida que pasan los meses, el LTV acumulado crece: por ejemplo, la cohorte de junio 2017 alcanza ~3 unidades por usuario a los 11 meses, mostrando mayor retención y gasto.\n",
    "\n",
    "- Cohortes posteriores (julio–octubre) presentan LTV más bajo, alcanzando entre 1 y 2 unidades promedio en el mismo periodo, lo que sugiere menor retención o menor gasto de los nuevos usuarios.\n",
    "\n",
    "- El crecimiento del LTV no es uniforme: algunas cohortes (como septiembre 2017) muestran un pico acelerado en el mes 3, mientras que otras crecen más lentamente.\n",
    "\n",
    "\n",
    "\n",
    "**Conclusiones Globales de Ventas**\n",
    "\n",
    "- Momento de conversión: La mayoría compra el mismo día del registro y dentro de los primeros 7 días; después de 30 días la conversión cae fuerte → se debe enfocar en activación temprana.\n",
    "\n",
    "- Canales de adquisición:\n",
    "\n",
    "1. Fuente 1 y 2 → mejor desempeño (conversiones altas y tickets mayores).\n",
    "\n",
    "2. Fuente 10 → buen nivel de conversión.\n",
    "\n",
    "3. Fuentes 3, 4, 5 → alto volumen pero baja eficiencia.\n",
    "\n",
    "4. Fuentes 6, 7 y 9 → poco rentables.\n",
    "\n",
    "- Frecuencia de pedidos: Pedidos diarios estables (60–160) y fuerte crecimiento mensual (de 2.300 a +5.600). La mayoría compra una sola vez, pero existe un nicho fiel con compras repetidas.\n",
    "\n",
    "- Tamaño promedio de compra (AOV): Promedio ≈ $5, mediana $2.5 → mayoría de compras pequeñas, pocos pedidos grandes elevan la media. Fuentes 1 y 2 generan tickets más altos.\n",
    "\n",
    "- LTV: Cohorte junio 2017 llega a ~3 unidades en 11 meses (buena retención). Cohortes posteriores se quedan en 1–2 unidades → menos fidelización.\n",
    "\n",
    "#### Posible Soluciones:\n",
    "\n",
    "* Activar rápido: incentivos en los primeros 7 días (emails, descuentos, bundles).\n",
    "\n",
    "* Optimizar inversión: priorizar fuentes 1, 2 y 10; reducir en 6, 7 y 9.\n",
    "\n",
    "* Fidelización: programas de recompra y beneficios para clientes recurrentes.\n",
    "\n",
    "* Aumentar ticket promedio: upselling/cross-selling y promos con monto mínimo.\n",
    "\n",
    "* Mejorar LTV de nuevas cohortes: revisar calidad de usuarios adquiridos y reforzar estrategias de retención temprana.\n",
    "\n"
   ]
  },
  {
   "cell_type": "markdown",
   "metadata": {},
   "source": [
    "# test"
   ]
  },
  {
   "cell_type": "markdown",
   "metadata": {},
   "source": [
    "#### ¿Cuánto dinero se gastó? Marketing:\n",
    "\n",
    "El gasto en marketing lo obtenemos de la tabla de costs.\n",
    "Podemos analizarlo en tres niveles:\n",
    "\n",
    "* Total: suma de todos los costos → cuánto dinero se invirtió en total.\n",
    "\n",
    "* Por fuente de adquisición (source): suma agrupada por source_id → así identificamos en qué canal se gastó más (ejemplo: Facebook Ads, Google Ads, afiliados).\n",
    "\n",
    "* A lo largo del tiempo: agregamos los costos por día o mes → así se pueden ver tendencias, estacionalidad o picos de campañas (por ejemplo, en fechas especiales).\n",
    "\n",
    "Esto nos permite entender la distribución de la inversión: qué tanto dinero destinamos a cada canal y cómo evolucionó en el tiempo."
   ]
  },
  {
   "cell_type": "code",
   "execution_count": 17,
   "metadata": {},
   "outputs": [
    {
     "name": "stdout",
     "output_type": "stream",
     "text": [
      "Gasto total en marketing: 329131.62\n",
      "Gasto por fuente:\n",
      "    source_id      costs\n",
      "2          3  141321.63\n",
      "3          4   61073.60\n",
      "4          5   51757.10\n",
      "1          2   42806.04\n",
      "0          1   20833.27\n",
      "6         10    5822.49\n",
      "5          9    5517.49\n"
     ]
    },
    {
     "data": {
      "image/png": "[encoded data removed]",
      "text/plain": [
       "<Figure size 1000x500 with 1 Axes>"
      ]
     },
     "metadata": {},
     "output_type": "display_data"
    }
   ],
   "source": [
    "# Asegúrarse de que las fechas estén en datetime\n",
    "costs['dt'] = pd.to_datetime(costs['dt'])\n",
    "\n",
    "# 1.1 Gasto total\n",
    "total_cost = costs['costs'].sum()\n",
    "print(\"Gasto total en marketing:\", total_cost)\n",
    "\n",
    "# 1.2 Gasto por fuente\n",
    "cost_by_source = costs.groupby('source_id')['costs'].sum().reset_index().sort_values('costs', ascending=False)\n",
    "print(\"Gasto por fuente:\\n\", cost_by_source)\n",
    "\n",
    "# 1.3 Gasto a lo largo del tiempo (mensual)\n",
    "costs['month'] = costs['dt'].dt.to_period('M').dt.to_timestamp()\n",
    "cost_by_month = costs.groupby('month')['costs'].sum().reset_index()\n",
    "\n",
    "# Gráfico de evolución del gasto\n",
    "plt.figure(figsize=(10,5))\n",
    "plt.plot(cost_by_month['month'], cost_by_month['costs'], marker='o')\n",
    "plt.title(\"Evolución del gasto en marketing\")\n",
    "plt.xlabel(\"Mes\")\n",
    "plt.ylabel(\"Gasto\")\n",
    "plt.grid(True)\n",
    "plt.show()"
   ]
  },
  {
   "cell_type": "markdown",
   "metadata": {},
   "source": [
    "#### ¿Cuál fue el costo de adquisición de clientes (CAC) de cada una de las fuentes?\n"
   ]
  },
  {
   "cell_type": "code",
   "execution_count": 18,
   "metadata": {},
   "outputs": [
    {
     "name": "stdout",
     "output_type": "stream",
     "text": [
      "   acquisition_source  n_buyers      costs        CAC\n",
      "0                   1      2899   20833.27   7.186364\n",
      "1                   2      3506   42806.04  12.209367\n",
      "2                   3     10473  141321.63  13.493901\n",
      "3                   4     10296   61073.60   5.931779\n",
      "4                   5      6931   51757.10   7.467479\n",
      "5                   7         1        NaN        NaN\n",
      "6                   9      1088    5517.49   5.071222\n",
      "7                  10      1329    5822.49   4.381106\n"
     ]
    }
   ],
   "source": [
    "# Obtener la fuente de adquisición de cada usuario (primera visita)\n",
    "first_source = visits.sort_values('Start Ts').groupby('Uid')['Source Id'].first().reset_index()\n",
    "first_source = first_source.rename(columns={'Source Id':'acquisition_source'})\n",
    "\n",
    "# Usuarios que realizaron compras\n",
    "buyers = orders.groupby('Uid')['Revenue'].sum().reset_index()\n",
    "buyers['is_buyer'] = True\n",
    "\n",
    "# Unir fuentes con compradores\n",
    "buyers_with_source = buyers.merge(first_source, on='Uid', how='left')\n",
    "\n",
    "# Calcular compradores por fuente\n",
    "buyers_per_source = buyers_with_source.groupby('acquisition_source')['Uid'].nunique().reset_index().rename(columns={'Uid':'n_buyers'})\n",
    "\n",
    "# Gasto por fuente\n",
    "cost_by_source = costs.groupby('source_id')['costs'].sum().reset_index()\n",
    "\n",
    "# Unir gasto y compradores\n",
    "cac_df = buyers_per_source.merge(cost_by_source, left_on='acquisition_source', right_on='source_id', how='left')\n",
    "\n",
    "# Calcular CAC\n",
    "cac_df['CAC'] = cac_df['costs'] / cac_df['n_buyers']\n",
    "print(cac_df[['acquisition_source', 'n_buyers', 'costs', 'CAC']])"
   ]
  },
  {
   "cell_type": "markdown",
   "metadata": {},
   "source": [
    "#### ¿Cuán rentables eran las inversiones? (ROMI)\n",
    "* ROMI > 0 → inversión rentable.\n",
    "\n",
    "* ROMI < 0 → pérdida.\n",
    "\n",
    "* Se puede expresar en % → multiplicando por 100."
   ]
  },
  {
   "cell_type": "code",
   "execution_count": 19,
   "metadata": {},
   "outputs": [
    {
     "name": "stdout",
     "output_type": "stream",
     "text": [
      "Columnas disponibles: ['Buy Ts', 'Revenue', 'Uid', 'order_date', 'order_week', 'order_month', 'acquisition_source_x', 'acquisition_source_y']\n",
      "Columna detectada como fuente de adquisición: acquisition_source_x\n",
      "   acquisition_source_x   Revenue      costs     ROMI_%\n",
      "0                     1  31090.55   20833.27  49.235094\n",
      "1                     2  46923.61   42806.04   9.619133\n",
      "2                     3  54511.24  141321.63 -61.427532\n",
      "3                     4  56696.83   61073.60  -7.166386\n",
      "4                     5  52624.02   51757.10   1.674978\n",
      "5                     7      1.22        NaN        NaN\n",
      "6                     9   5759.40    5517.49   4.384421\n",
      "7                    10   4450.33    5822.49 -23.566550\n"
     ]
    },
    {
     "data": {
      "image/png": "[encoded data removed]",
      "text/plain": [
       "<Figure size 1000x500 with 1 Axes>"
      ]
     },
     "metadata": {},
     "output_type": "display_data"
    }
   ],
   "source": [
    "\n",
    "# === Librerías necesarias ===\n",
    "import matplotlib.pyplot as plt\n",
    "import seaborn as sns\n",
    "\n",
    "# === Calcular ROMI por fuente de adquisición ===\n",
    "\n",
    "# 1. Hacer el merge de pedidos con la fuente de adquisición\n",
    "orders_with_source = orders.merge(first_source, on='Uid', how='left')\n",
    "\n",
    "# 2. Detectar automáticamente la columna que representa la fuente\n",
    "print(\"Columnas disponibles:\", orders_with_source.columns.tolist())\n",
    "source_col = [col for col in orders_with_source.columns if 'source' in col.lower()][0]\n",
    "print(\"Columna detectada como fuente de adquisición:\", source_col)\n",
    "\n",
    "# 3. Calcular ingresos por fuente\n",
    "revenue_by_source = (\n",
    "    orders_with_source.groupby(source_col)['Revenue']\n",
    "    .sum()\n",
    "    .reset_index()\n",
    ")\n",
    "\n",
    "# 4. Unir ingresos y costos\n",
    "romi_df = revenue_by_source.merge(\n",
    "    cost_by_source, \n",
    "    left_on=source_col, \n",
    "    right_on='source_id', \n",
    "    how='left'\n",
    ")\n",
    "\n",
    "# 5. Calcular ROMI\n",
    "romi_df['ROMI'] = (romi_df['Revenue'] - romi_df['costs']) / romi_df['costs']\n",
    "romi_df['ROMI_%'] = romi_df['ROMI'] * 100\n",
    "\n",
    "# 6. Mostrar tabla final\n",
    "print(romi_df[[source_col, 'Revenue', 'costs', 'ROMI_%']])\n",
    "\n",
    "# 7. Graficar ROMI por fuente\n",
    "plt.figure(figsize=(10,5))\n",
    "sns.barplot(data=romi_df, x=source_col, y='ROMI_%')\n",
    "plt.axhline(0, color='red', linestyle='--')\n",
    "plt.title(\"ROMI por fuente de adquisición\")\n",
    "plt.xlabel(\"Fuente\")\n",
    "plt.ylabel(\"ROMI (%)\")\n",
    "plt.show()"
   ]
  },
  {
   "cell_type": "markdown",
   "metadata": {},
   "source": [
    "#### 🔹 3. Marketing (Gastos, CAC y ROMI)\n",
    "\n",
    "\n",
    "1. **Gasto total**\n",
    "\n",
    "- La empresa invirtió 329,131.62 en marketing durante el período analizado.\n",
    "\n",
    "- El gasto no fue uniforme: tuvo un pico entre octubre y diciembre de 2017 (~37,000 mensuales) y luego disminuyó de manera constante en 2018 hasta llegar a ~22,000.\n",
    "\n",
    "- Esto indica campañas más agresivas a finales de 2017 (posiblemente Black Friday, Navidad o fin de año).\n",
    "\n",
    "2. **Distribución por fuente**\n",
    "\n",
    "- La fuente 3 fue la que más recursos recibió (141,321.63 → alreadedor del 41% del gasto total).\n",
    "\n",
    "- Le siguen: fuente 4 (61,073.60) y fuente 5 (51,757.10).\n",
    "\n",
    "- Las fuentes 9 y 10 recibieron muy poco presupuesto (<6,000 cada una).\n",
    "\n",
    " La empresa concentró casi todo el presupuesto en 3 canales principales (3, 4 y 5).\n",
    "\n",
    "4. **Costo de adquisición de clientes (CAC)**\n",
    "\n",
    "- El CAC promedio varió mucho entre fuentes:\n",
    "\n",
    "Fuente 1: 7.18\n",
    "\n",
    "Fuente 2: 12.21 (uno de los más altos, menos eficiente)\n",
    "\n",
    "Fuente 3: 13.49 (el más caro en términos de adquisición)\n",
    "\n",
    "Fuente 4: 5.93 (eficiente)\n",
    "\n",
    "Fuente 5: 7.46\n",
    "\n",
    "Fuente 9: 5.07\n",
    "\n",
    "Fuente 10: 4.38 (la más barata y eficiente en adquisición).\n",
    "\n",
    "* La fuente 10 fue la más eficiente (CAC bajo) aunque recibió poco presupuesto.\n",
    "* La fuente 3, a pesar de ser la más costosa y recibir la mayor inversión, tuvo el CAC más alto (13.49) → poca eficiencia.\n",
    "\n",
    "5. ¿Cuán rentables eran las inversiones? (ROMI)\n",
    "\n",
    "**Fuentes Rentables**\n",
    "\n",
    "- Fuente 1: Tiene el ROMI más alto (~49%), es decir, por cada dolar invertido se generan retornos positivos significativos.\n",
    "\n",
    "- Fuente 2 y Fuente 9: También presentan ROMI positivo, aunque más bajo (~9% y ~4% respectivamente). Son rentables, pero con menor margen.\n",
    "\n",
    "**Fuentes con pérdidas**\n",
    "\n",
    "Fuente 3: Es la menos rentable, con un ROMI de alrededor de -61%, lo que significa que la inversión supera con creces a los ingresos.\n",
    "\n",
    "Fuente 10: Tiene pérdidas importantes (-24%).\n",
    "\n",
    "Fuentes 4: Presentan ROMI negativo leve, pero no tan crítico como la fuente 3.\n",
    "\n",
    "\n",
    "- **Recomendaciones:**\n",
    "\n",
    "Potenciar y priorizar la inversión en la Fuente 1 (máxima rentabilidad).\n",
    "\n",
    "Mantener moderadamente las fuentes 2 y 9, dado que son positivas pero con margen bajo.\n",
    "\n",
    "Revisar y optimizar las fuentes 3 y 10, ya que generan fuertes pérdidas; considerar reducir inversión o cambiar estrategia en esas fuentes.\n",
    "\n",
    "Monitorear las fuentes con ROMI cercano a cero (4, 5), ya que tienen poco margen y pueden volverse rentables o seguir en pérdida según ajustes.\n",
    "\n",
    "\n"
   ]
  },
  {
   "cell_type": "markdown",
   "metadata": {},
   "source": [
    "## Conclusión Global y Recomendaciones de Inversión\n",
    "\n",
    "#### 1. En qué fuentes invertir más\n",
    "\n",
    "* **Fuente 1 → Prioritaria**\n",
    "\n",
    "Métricas: mejor conversión (0, 7 y 30 días), AOV alto (~$6), ROMI más alto (+49%).\n",
    "\n",
    "Justificación: genera clientes que compran rápido, gastan más y entregan la mejor rentabilidad.\n",
    "\n",
    "Recomendación: aumentar inversión significativamente aquí.\n",
    "\n",
    "* **Fuente 2 → Inversión moderada-alta**\n",
    "\n",
    "Métricas: buena conversión, AOV más alto (~$7.3), ROMI positivo (+9%).\n",
    "\n",
    "Justificación: aunque CAC es alto (12.21), compensa con ticket promedio elevado y retención aceptable.\n",
    "\n",
    "Recomendación: mantener o aumentar con foco en optimización de costos.\n",
    "\n",
    "* **Fuente 9 → Inversión moderada**\n",
    "\n",
    "Métricas: CAC bajo (5.07), ROMI positivo (+4%).\n",
    "\n",
    "Justificación: rentable, aunque con volumen limitado.\n",
    "\n",
    "Recomendación: mantener inversión y explorar escalabilidad.\n",
    "\n",
    "\n",
    "#### 2. Fuentes a reducir o replantear\n",
    "\n",
    "* **Fuente 3 → Reducir fuertemente**\n",
    "\n",
    "Métricas: recibe 41% del presupuesto, pero CAC más alto (13.49) y ROMI negativo (-61%).\n",
    "\n",
    "Justificación: alto gasto sin retorno → absorbe recursos que podrían rendir más en otras fuentes.\n",
    "\n",
    "* **Fuente 10 → Replantear estrategia**\n",
    "\n",
    "Métricas: CAC bajo (4.38, eficiente), pero ROMI negativo (-24%).\n",
    "\n",
    "Justificación: el problema no está en adquisición sino en monetización/retención de estos usuarios.\n",
    "\n",
    "Recomendación: mantener inversión mínima, probar cambios en onboarding y fidelización.\n",
    "\n",
    "* **Fuentes 4 y 5 → Monitorear**\n",
    "\n",
    "Métricas: CAC medio (5.9–7.4), ROMI cercano a cero.\n",
    "\n",
    "Justificación: alto volumen, pero margen limitado.\n",
    "\n",
    "Recomendación: mantener bajo control, optimizar campañas y analizar ajustes antes de cortar.\n",
    "\n",
    "#### 3. Enfoque estratégico\n",
    "\n",
    "1. Activación temprana: invertir en campañas de bienvenida, descuentos y bundles en los primeros 7 días, cuando la conversión es más alta.\n",
    "\n",
    "2. Fidelización: dado que la retención es baja (<10% después de un mes), el marketing debe enfocarse en recompra: notificaciones, programas de puntos, beneficios para clientes recurrentes.\n",
    "\n",
    "3. Incrementar ticket promedio (AOV): fomentar compras mínimas con promos, upselling/cross-selling, ya que la mediana es baja ($2.5).\n",
    "\n",
    "4. Optimización de gasto: redirigir parte del presupuesto de la fuente 3 hacia fuentes 1, 2 y 9, que han demostrado ser más rentables."
   ]
  },
  {
   "cell_type": "code",
   "execution_count": null,
   "metadata": {},
   "outputs": [],
   "source": []
  }
 ],
 "metadata": {
  "kernelspec": {
   "display_name": "Python 3 (ipykernel)",
   "language": "python",
   "name": "python3"
  },
  "language_info": {
   "codemirror_mode": {
    "name": "ipython",
    "version": 3
   },
   "file_extension": ".py",
   "mimetype": "text/x-python",
   "name": "python",
   "nbconvert_exporter": "python",
   "pygments_lexer": "ipython3",
   "version": "3.9.23"
  }
 },
 "nbformat": 4,
 "nbformat_minor": 4
}
